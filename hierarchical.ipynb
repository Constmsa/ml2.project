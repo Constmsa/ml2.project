{
 "cells": [
  {
   "cell_type": "code",
   "execution_count": 3,
   "metadata": {},
   "outputs": [],
   "source": [
    "import numpy as np\n",
    "import matplotlib.pyplot as plt\n",
    "from scipy.cluster.hierarchy import linkage, dendrogram\n",
    "from sklearn.cluster import AgglomerativeClustering\n",
    "from sklearn.metrics import silhouette_score\n",
    "\n",
    "def analyze_hierarchical_clustering(\n",
    "    data_path,\n",
    "    max_k=10,\n",
    "    linkage_method='ward',\n",
    "    affinity='euclidean',\n",
    "    show_dendrogram=True,\n",
    "    auto_cluster=True,\n",
    "    return_model=False\n",
    "):\n",
    "    \"\"\"\n",
    "    Perform hierarchical clustering with optional dendrogram and silhouette analysis.\n",
    "\n",
    "    Parameters:\n",
    "        data_scaled (ndarray): Preprocessed (numeric & scaled) data\n",
    "        max_k (int): Max number of clusters to test with silhouette\n",
    "        linkage_method (str): 'ward', 'average', 'complete', 'single'\n",
    "        affinity (str): Distance metric (ignored if 'ward')\n",
    "        show_dendrogram (bool): Show dendrogram plot\n",
    "        auto_cluster (bool): Choose best k automatically using silhouette score\n",
    "        return_model (bool): If True, return clustering model as well\n",
    "\n",
    "    Returns:\n",
    "        labels (ndarray): Cluster labels\n",
    "        best_k (int): Chosen number of clusters\n",
    "        model (optional): Fitted AgglomerativeClustering model\n",
    "    \"\"\"\n",
    "    data = preprocess(data_path)  \n",
    "    # 1. Plot dendrogram\n",
    "    if show_dendrogram:\n",
    "        Z = linkage(data, method=linkage_method, metric=affinity)\n",
    "        plt.figure(figsize=(10, 6))\n",
    "        dendrogram(Z)\n",
    "        plt.title(f\"Dendrogram (Linkage: {linkage_method})\")\n",
    "        plt.xlabel(\"Sample Index\")\n",
    "        plt.ylabel(\"Distance\")\n",
    "        plt.tight_layout()\n",
    "        plt.show()\n",
    "\n",
    "    # 2. Determine best number of clusters\n",
    "    if auto_cluster:\n",
    "        print(\"Silhouette scores:\")\n",
    "        best_score = -1\n",
    "        best_k = 2\n",
    "        for k in range(2, max_k + 1):\n",
    "            model = AgglomerativeClustering(n_clusters=k, linkage=linkage_method, affinity=affinity)\n",
    "            labels = model.fit_predict(data)\n",
    "            score = silhouette_score(data, labels)\n",
    "            print(f\"k={k} → Silhouette Score = {score:.3f}\")\n",
    "            if score > best_score:\n",
    "                best_score = score\n",
    "                best_k = k\n",
    "    else:\n",
    "        best_k = max_k  # user supplies the number directly\n",
    "\n",
    "    # 3. Final clustering\n",
    "    final_model = AgglomerativeClustering(n_clusters=best_k, linkage=linkage_method, affinity=affinity)\n",
    "    final_labels = final_model.fit_predict(data)\n",
    "\n",
    "    if return_model:\n",
    "        return final_labels, best_k, final_model\n",
    "    return final_labels, best_k"
   ]
  },
  {
   "cell_type": "code",
   "execution_count": null,
   "metadata": {},
   "outputs": [],
   "source": [
    "analyze_hierarchical_clustering('customer_info')"
   ]
  }
 ],
 "metadata": {
  "kernelspec": {
   "display_name": "MACHINE_LEARNING",
   "language": "python",
   "name": "python3"
  },
  "language_info": {
   "codemirror_mode": {
    "name": "ipython",
    "version": 3
   },
   "file_extension": ".py",
   "mimetype": "text/x-python",
   "name": "python",
   "nbconvert_exporter": "python",
   "pygments_lexer": "ipython3",
   "version": "3.11.9"
  }
 },
 "nbformat": 4,
 "nbformat_minor": 2
}
