{
 "cells": [
  {
   "cell_type": "code",
   "execution_count": 2,
   "metadata": {},
   "outputs": [
    {
     "name": "stdout",
     "output_type": "stream",
     "text": [
      "Requirement already satisfied: pandas in /Users/constancasa/anaconda3/envs/MACHINE_LEARNING/lib/python3.11/site-packages (2.2.2)\n",
      "Requirement already satisfied: numpy>=1.23.2 in /Users/constancasa/anaconda3/envs/MACHINE_LEARNING/lib/python3.11/site-packages (from pandas) (1.26.4)\n",
      "Requirement already satisfied: python-dateutil>=2.8.2 in /Users/constancasa/anaconda3/envs/MACHINE_LEARNING/lib/python3.11/site-packages (from pandas) (2.9.0.post0)\n",
      "Requirement already satisfied: pytz>=2020.1 in /Users/constancasa/anaconda3/envs/MACHINE_LEARNING/lib/python3.11/site-packages (from pandas) (2024.1)\n",
      "Requirement already satisfied: tzdata>=2022.7 in /Users/constancasa/anaconda3/envs/MACHINE_LEARNING/lib/python3.11/site-packages (from pandas) (2023.3)\n",
      "Requirement already satisfied: six>=1.5 in /Users/constancasa/anaconda3/envs/MACHINE_LEARNING/lib/python3.11/site-packages (from python-dateutil>=2.8.2->pandas) (1.16.0)\n"
     ]
    }
   ],
   "source": [
    "!pip install pandas\n"
   ]
  },
  {
   "cell_type": "code",
   "execution_count": 3,
   "metadata": {},
   "outputs": [],
   "source": [
    "import pandas as pd\n",
    "customer_info = pd.read_csv('customer_info.csv')\n",
    "customer_basket = pd.read_csv('customer_basket.csv')"
   ]
  },
  {
   "cell_type": "code",
   "execution_count": 6,
   "metadata": {},
   "outputs": [
    {
     "name": "stdout",
     "output_type": "stream",
     "text": [
      "<class 'pandas.core.frame.DataFrame'>\n",
      "RangeIndex: 34060 entries, 0 to 34059\n",
      "Data columns (total 26 columns):\n",
      " #   Column                                   Non-Null Count  Dtype  \n",
      "---  ------                                   --------------  -----  \n",
      " 0   Unnamed: 0                               34060 non-null  int64  \n",
      " 1   customer_id                              34060 non-null  int64  \n",
      " 2   customer_name                            34060 non-null  object \n",
      " 3   customer_gender                          34060 non-null  object \n",
      " 4   customer_birthdate                       33719 non-null  object \n",
      " 5   kids_home                                33311 non-null  float64\n",
      " 6   teens_home                               33277 non-null  float64\n",
      " 7   number_complaints                        33038 non-null  float64\n",
      " 8   distinct_stores_visited                  33379 non-null  float64\n",
      " 9   lifetime_spend_groceries                 34060 non-null  float64\n",
      " 10  lifetime_spend_electronics               34060 non-null  float64\n",
      " 11  typical_hour                             32698 non-null  float64\n",
      " 12  lifetime_spend_vegetables                33038 non-null  float64\n",
      " 13  lifetime_spend_nonalcohol_drinks         34060 non-null  float64\n",
      " 14  lifetime_spend_alcohol_drinks            33379 non-null  float64\n",
      " 15  lifetime_spend_meat                      34060 non-null  float64\n",
      " 16  lifetime_spend_fish                      32357 non-null  float64\n",
      " 17  lifetime_spend_hygiene                   34060 non-null  float64\n",
      " 18  lifetime_spend_videogames                34060 non-null  float64\n",
      " 19  lifetime_spend_petfood                   34060 non-null  float64\n",
      " 20  lifetime_total_distinct_products         34060 non-null  float64\n",
      " 21  percentage_of_products_bought_promotion  34060 non-null  float64\n",
      " 22  year_first_transaction                   34060 non-null  float64\n",
      " 23  loyalty_card_number                      23152 non-null  float64\n",
      " 24  latitude                                 34060 non-null  float64\n",
      " 25  longitude                                34060 non-null  float64\n",
      "dtypes: float64(21), int64(2), object(3)\n",
      "memory usage: 6.8+ MB\n"
     ]
    },
    {
     "data": {
      "text/plain": [
       "Unnamed: 0                                     0\n",
       "customer_id                                    0\n",
       "customer_name                                  0\n",
       "customer_gender                                0\n",
       "customer_birthdate                           341\n",
       "kids_home                                    749\n",
       "teens_home                                   783\n",
       "number_complaints                           1022\n",
       "distinct_stores_visited                      681\n",
       "lifetime_spend_groceries                       0\n",
       "lifetime_spend_electronics                     0\n",
       "typical_hour                                1362\n",
       "lifetime_spend_vegetables                   1022\n",
       "lifetime_spend_nonalcohol_drinks               0\n",
       "lifetime_spend_alcohol_drinks                681\n",
       "lifetime_spend_meat                            0\n",
       "lifetime_spend_fish                         1703\n",
       "lifetime_spend_hygiene                         0\n",
       "lifetime_spend_videogames                      0\n",
       "lifetime_spend_petfood                         0\n",
       "lifetime_total_distinct_products               0\n",
       "percentage_of_products_bought_promotion        0\n",
       "year_first_transaction                         0\n",
       "loyalty_card_number                        10908\n",
       "latitude                                       0\n",
       "longitude                                      0\n",
       "dtype: int64"
      ]
     },
     "execution_count": 6,
     "metadata": {},
     "output_type": "execute_result"
    }
   ],
   "source": [
    "customer_info.info()\n",
    "customer_info.isna().sum()"
   ]
  }
 ],
 "metadata": {
  "kernelspec": {
   "display_name": "MACHINE_LEARNING",
   "language": "python",
   "name": "python3"
  },
  "language_info": {
   "codemirror_mode": {
    "name": "ipython",
    "version": 3
   },
   "file_extension": ".py",
   "mimetype": "text/x-python",
   "name": "python",
   "nbconvert_exporter": "python",
   "pygments_lexer": "ipython3",
   "version": "3.11.9"
  }
 },
 "nbformat": 4,
 "nbformat_minor": 2
}
