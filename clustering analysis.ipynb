{
 "cells": [
  {
   "cell_type": "markdown",
   "metadata": {},
   "source": [
    "<b> Clustering Analysis"
   ]
  },
  {
   "cell_type": "code",
   "execution_count": 16,
   "metadata": {},
   "outputs": [
    {
     "name": "stdout",
     "output_type": "stream",
     "text": [
      "The autoreload extension is already loaded. To reload it, use:\n",
      "  %reload_ext autoreload\n"
     ]
    }
   ],
   "source": [
    "from clustering_functions import *\n",
    "from sklearn.metrics import silhouette_score\n",
    "%load_ext autoreload\n",
    "%autoreload 2"
   ]
  },
  {
   "cell_type": "code",
   "execution_count": 17,
   "metadata": {},
   "outputs": [],
   "source": [
    "def clustering(path):\n",
    "    df = preprocess(path)\n",
    "    df['som_cluster'] = som_cluster(df,som_size=3, iterations=5000, sigma=1.0, learning_rate=0.5)['som_cluster']\n",
    "    df['Kmeans_cluster'] = kmeans_clustering(df, n_clusters=9, random_state=42)['Kmeans_cluster']\n",
    "    df['hierachical_cluster'] = hierarchical_clustering(df, n_clusters=9, linkage='ward')['hierarchical_cluster']\n",
    "\n",
    "    return df"
   ]
  },
  {
   "cell_type": "code",
   "execution_count": 18,
   "metadata": {},
   "outputs": [
    {
     "name": "stdout",
     "output_type": "stream",
     "text": [
      " [ 5000 / 5000 ] 100% - 0:00:00 left \n",
      " quantization error: 2.1962801913295817\n"
     ]
    }
   ],
   "source": [
    "df= clustering('customer_info.csv')"
   ]
  },
  {
   "cell_type": "code",
   "execution_count": 28,
   "metadata": {},
   "outputs": [],
   "source": [
    "def calcular_silhouettes(X, dicionario_labels):\n",
    "    for nome, labels in dicionario_labels.items():\n",
    "        if len(set(labels)) > 1:\n",
    "            try:\n",
    "                score = silhouette_score(X, labels)\n",
    "                print(f\"{nome}: Silhouette Score = {score:.3f}\")\n",
    "            except Exception as e:\n",
    "                print(f\"{nome}: Erro ao calcular o silhouette score → {e}\")\n",
    "        else:\n",
    "            print(f\"{nome}: apenas um cluster encontrado (não é possível calcular o silhouette score)\")"
   ]
  },
  {
   "cell_type": "code",
   "execution_count": 25,
   "metadata": {},
   "outputs": [
    {
     "name": "stdout",
     "output_type": "stream",
     "text": [
      "KMeans: Silhouette Score = 0.195\n",
      "SOM: Erro ao calcular o silhouette score → unhashable type: 'numpy.ndarray'\n",
      "Hierarchical: Silhouette Score = 0.163\n"
     ]
    }
   ],
   "source": [
    "label_dict = {\n",
    "    \"KMeans\": df['Kmeans_cluster'].values,\n",
    "    \"SOM\": df['som_cluster'].values,\n",
    "    \"Hierarchical\": df['hierachical_cluster'].values\n",
    "}\n",
    "\n",
    "data = df[['lifetime_spend_groceries', 'lifetime_spend_electronics',\n",
    "        'typical_hour', 'lifetime_spend_vegetables',\n",
    "        'lifetime_spend_nonalcohol_drinks', 'lifetime_spend_alcohol_drinks',\n",
    "        'lifetime_spend_meat', 'lifetime_spend_fish', 'lifetime_spend_hygiene',\n",
    "        'lifetime_spend_videogames', 'lifetime_spend_petfood',\n",
    "        'lifetime_total_distinct_products']]\n",
    "scores = calcular_silhouettes(data, label_dict)\n"
   ]
  },
  {
   "cell_type": "code",
   "execution_count": 26,
   "metadata": {},
   "outputs": [
    {
     "name": "stderr",
     "output_type": "stream",
     "text": [
      "/Users/constancasa/anaconda3/envs/MACHINE_LEARNING/lib/python3.11/site-packages/umap/umap_.py:1952: UserWarning: n_jobs value 1 overridden to 1 by setting random_state. Use no seed for parallelism.\n",
      "  warn(\n",
      "OMP: Info #276: omp_set_nested routine deprecated, please use omp_set_max_active_levels instead.\n"
     ]
    }
   ],
   "source": [
    "import umap\n",
    "import numpy as np\n",
    "\n",
    "# Reduzir para 2 dimensões\n",
    "umap_2d = umap.UMAP(n_components=2, random_state=42)\n",
    "X_umap = umap_2d.fit_transform(data)"
   ]
  },
  {
   "cell_type": "code",
   "execution_count": 27,
   "metadata": {},
   "outputs": [
    {
     "name": "stdout",
     "output_type": "stream",
     "text": [
      "KMeans: Silhouette Score = 0.402\n",
      "SOM: Erro ao calcular o silhouette score → unhashable type: 'numpy.ndarray'\n",
      "Hierarchical: Silhouette Score = 0.437\n"
     ]
    }
   ],
   "source": [
    "scores_umap = calcular_silhouettes(X_umap, label_dict)"
   ]
  }
 ],
 "metadata": {
  "kernelspec": {
   "display_name": "MACHINE_LEARNING",
   "language": "python",
   "name": "python3"
  },
  "language_info": {
   "codemirror_mode": {
    "name": "ipython",
    "version": 3
   },
   "file_extension": ".py",
   "mimetype": "text/x-python",
   "name": "python",
   "nbconvert_exporter": "python",
   "pygments_lexer": "ipython3",
   "version": "3.11.9"
  }
 },
 "nbformat": 4,
 "nbformat_minor": 2
}
